{
  "nbformat": 4,
  "nbformat_minor": 0,
  "metadata": {
    "colab": {
      "provenance": [],
      "authorship_tag": "ABX9TyOuDoNoYPjaVq9la5T3rCMy",
      "include_colab_link": true
    },
    "kernelspec": {
      "name": "python3",
      "display_name": "Python 3"
    },
    "language_info": {
      "name": "python"
    }
  },
  "cells": [
    {
      "cell_type": "markdown",
      "metadata": {
        "id": "view-in-github",
        "colab_type": "text"
      },
      "source": [
        "<a href=\"https://colab.research.google.com/github/almemanuel/solve-challenges/blob/main/prot/pdf/extractor.ipynb\" target=\"_parent\"><img src=\"https://colab.research.google.com/assets/colab-badge.svg\" alt=\"Open In Colab\"/></a>"
      ]
    },
    {
      "cell_type": "markdown",
      "source": [
        "# Tentando extrair email e telefone de um PDF\n",
        "\n",
        "Com mais experiência, essa tarefa pode ser melhor automatizada. Tomei como ponto de partida o fato de ter acesso ao documento de origem, obervando sua estrutura"
      ],
      "metadata": {
        "id": "BqxMvP0diWZh"
      }
    },
    {
      "cell_type": "code",
      "execution_count": 41,
      "metadata": {
        "colab": {
          "base_uri": "https://localhost:8080/"
        },
        "id": "ZFyVbrjGZ6hn",
        "outputId": "2f0b4e07-081e-45ca-b839-6732bc9982a7"
      },
      "outputs": [
        {
          "output_type": "stream",
          "name": "stdout",
          "text": [
            "Looking in indexes: https://pypi.org/simple, https://us-python.pkg.dev/colab-wheels/public/simple/\n",
            "Requirement already satisfied: pypdf2 in /usr/local/lib/python3.7/dist-packages (2.11.2)\n",
            "Requirement already satisfied: typing_extensions>=3.10.0.0 in /usr/local/lib/python3.7/dist-packages (from pypdf2) (4.1.1)\n"
          ]
        }
      ],
      "source": [
        "!pip install pypdf2\n",
        "import PyPDF2\n",
        "import re\n",
        "import urllib.request\n",
        "import io"
      ]
    },
    {
      "cell_type": "code",
      "source": [
        "URL = 'https://github.com/almemanuel/solve-challenges/raw/main/prot/pdf/dados.pdf'\n",
        "req = urllib.request.Request(URL)\n",
        "remote_file = urllib.request.urlopen(req).read()\n",
        "remote_file_bytes = io.BytesIO(remote_file)\n",
        "read_pdf = PyPDF2.PdfFileReader(remote_file_bytes)\n",
        "page = read_pdf.getPage(0)\n",
        "page_content = page.extractText()\n",
        "parsed = ''.join(page_content)\n",
        "parsed = re.sub('n', '', parsed)\n",
        "parsed = parsed.split('\\n')\n",
        "\n",
        "for bit_of_text in parsed:\n",
        "    if (\n",
        "        '@mail' in bit_of_text\n",
        "    ) or (\n",
        "        '(' in bit_of_text and ')' in bit_of_text and '-' in bit_of_text\n",
        "    ):\n",
        "        print(bit_of_text)"
      ],
      "metadata": {
        "colab": {
          "base_uri": "https://localhost:8080/"
        },
        "id": "sIb0rqbfbr2P",
        "outputId": "62fd87a8-4132-48a7-b095-faedd3cccbe1"
      },
      "execution_count": 42,
      "outputs": [
        {
          "output_type": "stream",
          "name": "stdout",
          "text": [
            "joh.doe@mail.com\n",
            "(11) 11111-1111\n"
          ]
        }
      ]
    }
  ]
}