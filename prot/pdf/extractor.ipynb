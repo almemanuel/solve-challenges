{
  "nbformat": 4,
  "nbformat_minor": 0,
  "metadata": {
    "colab": {
      "provenance": [],
      "authorship_tag": "ABX9TyNnercfDfhfHvZ7GROSq/KK",
      "include_colab_link": true
    },
    "kernelspec": {
      "name": "python3",
      "display_name": "Python 3"
    },
    "language_info": {
      "name": "python"
    }
  },
  "cells": [
    {
      "cell_type": "markdown",
      "metadata": {
        "id": "view-in-github",
        "colab_type": "text"
      },
      "source": [
        "<a href=\"https://colab.research.google.com/github/almemanuel/solve-challenges/blob/main/prot/pdf/extractor.ipynb\" target=\"_parent\"><img src=\"https://colab.research.google.com/assets/colab-badge.svg\" alt=\"Open In Colab\"/></a>"
      ]
    },
    {
      "cell_type": "markdown",
      "source": [
        "# Tentando extrair email e telefone de um PDF\n",
        "\n",
        "Com mais experiência, essa tarefa pode ser melhor automatizada. Tomei como ponto de partida o fato de ter acesso ao documento de origem, obervando sua estrutura"
      ],
      "metadata": {
        "id": "BqxMvP0diWZh"
      }
    },
    {
      "cell_type": "code",
      "execution_count": 29,
      "metadata": {
        "colab": {
          "base_uri": "https://localhost:8080/"
        },
        "id": "ZFyVbrjGZ6hn",
        "outputId": "79619032-fab9-490f-9dbc-6d75df149425"
      },
      "outputs": [
        {
          "output_type": "stream",
          "name": "stdout",
          "text": [
            "Looking in indexes: https://pypi.org/simple, https://us-python.pkg.dev/colab-wheels/public/simple/\n",
            "Requirement already satisfied: pypdf2 in /usr/local/lib/python3.7/dist-packages (2.11.2)\n",
            "Requirement already satisfied: typing_extensions>=3.10.0.0 in /usr/local/lib/python3.7/dist-packages (from pypdf2) (4.1.1)\n"
          ]
        }
      ],
      "source": [
        "!pip install pypdf2\n",
        "import PyPDF2\n",
        "import re"
      ]
    },
    {
      "cell_type": "code",
      "source": [
        "pdf_file = open('dados.pdf', 'rb')\n",
        "read_pdf = PyPDF2.PdfFileReader(pdf_file)\n",
        "page = read_pdf.getPage(0)\n",
        "page_content = page.extractText()\n",
        "parsed = ''.join(page_content)\n",
        "parsed = re.sub('n', '', parsed)\n",
        "parsed = parsed.split('\\n')\n",
        "\n",
        "for bit in parsed:\n",
        "    if '@' in bit and 'mail' in bit or '(' in bit and ')' in bit and '-' in bit:\n",
        "        print(bit)"
      ],
      "metadata": {
        "colab": {
          "base_uri": "https://localhost:8080/"
        },
        "id": "sIb0rqbfbr2P",
        "outputId": "b86f60e2-cf92-4f4c-b053-237a8fdf8105"
      },
      "execution_count": 34,
      "outputs": [
        {
          "output_type": "stream",
          "name": "stdout",
          "text": [
            "joh.doe@mail.com\n",
            "(11) 11111-1111\n"
          ]
        }
      ]
    }
  ]
}